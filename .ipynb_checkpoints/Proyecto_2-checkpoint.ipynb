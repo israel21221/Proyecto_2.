{
 "cells": [
  {
   "cell_type": "markdown",
   "metadata": {},
   "source": [
    "# Fractales\n",
    "<img style=\"float: left; margin: 0px 0px 15px 15px;\" src=\"http://webcem01.cem.itesm.mx:8005/s201411/tc1018/Tree1Fractal.png\" width=\"400px\" height=\"125px\" />\n",
    "\n",
    "\n",
    "## Historia\n",
    "Un fractal es un objeto geométrico cuya estructura básica, fragmentada o aparentemente irregular, se repite a diferentes escalas. El término fue propuesto por el matemático Benoît Mandelbrot en 1975 y deriva del latín fractus, que significa quebrado o fracturado. Muchas estructuras naturales son de tipo fractal. La propiedad matemática clave de un objeto genuinamente fractal es que su dimensión métrica fractal es un número no entero.\n",
    "\n",
    "#### Las copias son similares al todo: misma forma pero diferente tamaño. Ejemplos de autosimilaridad\n",
    "Fractales naturales son objetos naturales que se pueden representar con muy buena aproximación mediante fractales matemáticos con autosimilaridad estadística. Los fractales encontrados en la naturaleza se diferencian de los fractales matemáticos en que los naturales son aproximados o estadísticos y su autosimilaridad se extiende solo a un rango de escalas (por ejemplo, a escala cercana a la atómica su estructura difiere de la estructura macroscópica).\n",
    "\n",
    "## Desarrollo del proyecto\n",
    "Nos dedicamos a la tarea de investigar un nuevo comando llamado \"turtle\". En el que es un tipo de \"renderizador\", por asi decirlo, en el que abre una nueva ventana que desarrolla paso a paso el proceso de generar un fractal en forma de arbol paso a paso. \n",
    "\n",
    "#### Integrantes \n",
    "Israel González\n",
    "\n",
    "Hugo Saucedo\n",
    "\n",
    "Antonio Nishimura"
   ]
  },
  {
   "cell_type": "code",
   "execution_count": 1,
   "metadata": {
    "collapsed": true
   },
   "outputs": [],
   "source": [
    "import turtle"
   ]
  },
  {
   "cell_type": "code",
   "execution_count": 2,
   "metadata": {
    "collapsed": true
   },
   "outputs": [],
   "source": [
    "#l va a ser el tamaño que tendrá el tronco la cual ira decreciendo a una razon de 2/3 o .667\n",
    "\n",
    "def arbol(l, d):\n",
    "    if d == 0:\n",
    "        return\n",
    "    else:\n",
    "        turtle.forward(l)\n",
    "        turtle.left(45)\n",
    "        arbol(l*2/3, d-1)\n",
    "        turtle.right(90)\n",
    "        arbol(l*2/3, d-1)\n",
    "        turtle.left(45)\n",
    "        turtle.back(l)"
   ]
  },
  {
   "cell_type": "code",
   "execution_count": 3,
   "metadata": {
    "collapsed": true
   },
   "outputs": [],
   "source": [
    "turtle.left(90)\n",
    "arbol(100, 10)"
   ]
  },
  {
   "cell_type": "code",
   "execution_count": null,
   "metadata": {
    "collapsed": true
   },
   "outputs": [],
   "source": []
  }
 ],
 "metadata": {
  "kernelspec": {
   "display_name": "Python 3",
   "language": "python",
   "name": "python3"
  },
  "language_info": {
   "codemirror_mode": {
    "name": "ipython",
    "version": 3
   },
   "file_extension": ".py",
   "mimetype": "text/x-python",
   "name": "python",
   "nbconvert_exporter": "python",
   "pygments_lexer": "ipython3",
   "version": "3.6.1"
  }
 },
 "nbformat": 4,
 "nbformat_minor": 2
}
